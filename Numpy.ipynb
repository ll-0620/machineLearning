{
 "cells": [
  {
   "cell_type": "code",
   "execution_count": 1,
   "metadata": {},
   "outputs": [],
   "source": [
    "# numpy作为python数据处理最常用的模块被广泛使用。\n",
    "import numpy as np"
   ]
  },
  {
   "cell_type": "code",
   "execution_count": 7,
   "metadata": {},
   "outputs": [
    {
     "name": "stderr",
     "output_type": "stream",
     "text": [
      "<ipython-input-7-2ed7b7ed1bcf>:5: RuntimeWarning: divide by zero encountered in log\n",
      "  np.log([1, np.e, np.e**2, 0])\n"
     ]
    },
    {
     "data": {
      "text/plain": [
       "array([  0.,   1.,   2., -inf])"
      ]
     },
     "execution_count": 7,
     "metadata": {},
     "output_type": "execute_result"
    }
   ],
   "source": [
    "# numpy.log(x, /, out=None, *, where=True, casting='same_kind', order='K', dtype=None, subok=True[, signature, extobj])\n",
    "# x: 输入\n",
    "# return: x的自然对数\n",
    "# e.g.\n",
    "np.log([1, np.e, np.e**2, 0])\n",
    "# array([  0.,   1.,   2., -Inf])"
   ]
  },
  {
   "cell_type": "code",
   "execution_count": 8,
   "metadata": {},
   "outputs": [
    {
     "data": {
      "text/plain": [
       "2.5"
      ]
     },
     "execution_count": 8,
     "metadata": {},
     "output_type": "execute_result"
    }
   ],
   "source": [
    "# numpy.mean(a, axis=None, dtype=None, out=None, keepdims=<no value>, *, where=<no value>)\n",
    "# a: 输入数组\n",
    "# axis: 均值计算的轴，默认会将数组打平（flatten）后计算均值\n",
    "# return: 指定轴的均值或均值向量\n",
    "# e.g.\n",
    "a = np.array([[1, 2], [3, 4]])\n",
    "np.mean(a) # 计算指定axis下的算术平均值。"
   ]
  },
  {
   "cell_type": "code",
   "execution_count": 9,
   "metadata": {},
   "outputs": [
    {
     "data": {
      "text/plain": [
       "1.118033988749895"
      ]
     },
     "execution_count": 9,
     "metadata": {},
     "output_type": "execute_result"
    }
   ],
   "source": [
    "# numpy.std(a, axis=None, dtype=None, out=None, ddof=0, keepdims=<no value>, *, where=<no value>)[source]\n",
    "# 参数同np.mean()函数\n",
    "# e.g.\n",
    "a = np.array([[1, 2], [3, 4]])\n",
    "np.std(a) # 计算指定axis下的标准差。"
   ]
  },
  {
   "cell_type": "code",
   "execution_count": 10,
   "metadata": {},
   "outputs": [
    {
     "data": {
      "text/plain": [
       "array([[1, 2],\n",
       "       [3, 4]])"
      ]
     },
     "execution_count": 10,
     "metadata": {},
     "output_type": "execute_result"
    }
   ],
   "source": [
    "# numpy.empty(shape, dtype=float, order='C', *, like=None)\n",
    "# shape: 矩阵形状\n",
    "# dtype: 数据类型，默认为numpy.float64.\n",
    "# return: 指定维度的未被初始化（数值任意）的矩阵\n",
    "# e.g.\n",
    "np.empty([2, 2], dtype=int) # 返回给定形状和类型的矩阵。"
   ]
  },
  {
   "cell_type": "code",
   "execution_count": 12,
   "metadata": {},
   "outputs": [
    {
     "data": {
      "text/plain": [
       "array([[1, 2],\n",
       "       [3, 4]])"
      ]
     },
     "execution_count": 12,
     "metadata": {},
     "output_type": "execute_result"
    }
   ],
   "source": [
    "# numpy.array(object, dtype=None, *, copy=True, order='K', subok=False, ndmin=0, like=None)\n",
    "# object: 数组，或者任何可以显示数组接口的对象。（注：一般是python列表）\n",
    "# dtype: 数据类型，如果不给出，则该类型将确定为按顺序保留对象所需的最小类型\n",
    "# return: numpy格式的数组\n",
    "# e.g.\n",
    "np.array([[1, 2], [3, 4]]) # 创建一个数组。"
   ]
  },
  {
   "cell_type": "code",
   "execution_count": 17,
   "metadata": {},
   "outputs": [
    {
     "name": "stdout",
     "output_type": "stream",
     "text": [
      "np.zeros: [0. 0. 0. 0. 0.]\n",
      "np.ones: [1. 1. 1. 1. 1.]\n"
     ]
    },
    {
     "data": {
      "text/plain": [
       "array([[1, 0],\n",
       "       [0, 1]])"
      ]
     },
     "execution_count": 17,
     "metadata": {},
     "output_type": "execute_result"
    }
   ],
   "source": [
    "# np.zeros() ：返回指定形状下的全零数组。\n",
    "# np.ones() ：返回指定形状下的全1数组。\n",
    "# np.eye() ：返回指定形状下的单位阵。\n",
    "print(\"np.zeros: {}\".format(np.zeros(5)))\n",
    "print(\"np.ones: {}\".format(np.ones(5)))\n",
    "# numpy.eye(N, M=None, k=0, dtype=<class 'float'>, order='C', *, like=None)\n",
    "# N: 输出数组行数\n",
    "# M: 可选，输出数组列数，默认等于行数\n",
    "# dtype: 数据类型，默认为numpy.float64.\n",
    "# e.g.\n",
    "np.eye(2, dtype=int)"
   ]
  },
  {
   "cell_type": "code",
   "execution_count": 18,
   "metadata": {},
   "outputs": [],
   "source": [
    "# 使用 Python 序列（例如列表和元组）定义 NumPy 数组。列表和元组分别使用[…]和定义(…)\n",
    "a1D = np.array([1, 2, 3, 4])\n"
   ]
  }
 ],
 "metadata": {
  "kernelspec": {
   "display_name": "Python 3",
   "language": "python",
   "name": "python3"
  },
  "language_info": {
   "codemirror_mode": {
    "name": "ipython",
    "version": 3
   },
   "file_extension": ".py",
   "mimetype": "text/x-python",
   "name": "python",
   "nbconvert_exporter": "python",
   "pygments_lexer": "ipython3",
   "version": "3.8.5"
  }
 },
 "nbformat": 4,
 "nbformat_minor": 4
}
